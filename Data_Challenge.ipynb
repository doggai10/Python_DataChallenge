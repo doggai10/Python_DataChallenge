{
 "cells": [
  {
   "cell_type": "code",
   "execution_count": null,
   "metadata": {},
   "outputs": [],
   "source": [
    "import numpy as np\n",
    "import pandas as pd\n",
    "import matplotlib.pyplot as plt"
   ]
  },
  {
   "cell_type": "code",
   "execution_count": null,
   "metadata": {},
   "outputs": [],
   "source": [
    "pd.set_option('display.max_columns', 500)\n",
    "pd.set_option('display.max_rows',   5000)"
   ]
  },
  {
   "cell_type": "code",
   "execution_count": null,
   "metadata": {},
   "outputs": [],
   "source": [
    "for i in range(1,71):\n",
    "    s1= \"site%da = pd.read_csv('Data/site%da.csv', header=None)\"%(i,i)\n",
    "    s2= \"site%dc = pd.read_csv('Data/site%dc.csv', header=None)\"%(i,i)\n",
    "    exec(s1)\n",
    "    exec(s2)\n",
    "    \n",
    "    if i%10 == 0:\n",
    "        print(i)"
   ]
  },
  {
   "cell_type": "code",
   "execution_count": null,
   "metadata": {},
   "outputs": [],
   "source": [
    "site1a[0]"
   ]
  },
  {
   "cell_type": "code",
   "execution_count": null,
   "metadata": {},
   "outputs": [],
   "source": [
    "site1c"
   ]
  },
  {
   "cell_type": "code",
   "execution_count": null,
   "metadata": {},
   "outputs": [],
   "source": [
    "for i in range(1,71):\n",
    "        s3=\"site%da_HVAC1=site%da[site%da[0]=='HVAC1']\"%(i,i,i)\n",
    "        exec(s3)"
   ]
  },
  {
   "cell_type": "code",
   "execution_count": null,
   "metadata": {},
   "outputs": [],
   "source": [
    "site1a_HVAC1"
   ]
  },
  {
   "cell_type": "code",
   "execution_count": null,
   "metadata": {},
   "outputs": [],
   "source": [
    "for i in range(1,71):\n",
    "        s4=\"site%dc_Fault1=site%dc[site%dc[2]=='DeltaT1CoolingZoneInSpec']\"%(i,i,i)\n",
    "        exec(s4)\n",
    "        s5=\"site%dc_Fault2=site%dc[site%dc[2]=='DeltaT1CoolingZoneNotSpec']\"%(i,i,i)\n",
    "        exec(s5)"
   ]
  },
  {
   "cell_type": "code",
   "execution_count": null,
   "metadata": {},
   "outputs": [],
   "source": [
    "print(site1c_Fault1.shape)\n",
    "site1c_Fault1"
   ]
  },
  {
   "cell_type": "code",
   "execution_count": null,
   "metadata": {},
   "outputs": [],
   "source": [
    "print(site1c_Fault2.shape)\n",
    "site1c_Fault2"
   ]
  },
  {
   "cell_type": "code",
   "execution_count": null,
   "metadata": {},
   "outputs": [],
   "source": [
    "StudentNo = 20  \n",
    "\n",
    "Path1 = './Result/ST%d_DC1_1'%StudentNo\n",
    "Path2 = './Result/ST%d_DC1_2'%StudentNo\n",
    "Path3 = './Result/ST%d_DC1_3'%StudentNo\n",
    "\n",
    "site70a_HVAC1.to_csv( Path1 , sep=',' , header=None , index=None)\n",
    "site35c_Fault1.to_csv(Path2 , sep=',' , header=None , index=None)\n",
    "site10c_Fault2.to_csv(Path3 , sep=',' , header=None , index=None)"
   ]
  },
  {
   "cell_type": "code",
   "execution_count": null,
   "metadata": {},
   "outputs": [],
   "source": [
    "Example_site0a_HVAC1  = pd.read_csv('./ExampleData/Example_site0a_HVAC1',header=None)\n",
    "Example_site0c_Fault2 = pd.read_csv('./ExampleData/Example_site0c_Fault2',header=None)"
   ]
  },
  {
   "cell_type": "code",
   "execution_count": null,
   "metadata": {},
   "outputs": [],
   "source": [
    "Example_site0a_HVAC1"
   ]
  },
  {
   "cell_type": "code",
   "execution_count": null,
   "metadata": {},
   "outputs": [],
   "source": [
    "Example_site0c_Fault2"
   ]
  },
  {
   "cell_type": "code",
   "execution_count": null,
   "metadata": {},
   "outputs": [],
   "source": [
    "StartPoint = np.where(Example_site0a_HVAC1.iloc[:,1].values <= Example_site0c_Fault2.iloc[0,0])[0][-1]\n",
    "EndPoint   = np.where(Example_site0a_HVAC1.iloc[:,1].values <= Example_site0c_Fault2.iloc[0,1])[0][-1]\n",
    "\n",
    "\n",
    "print(StartPoint, EndPoint)\n",
    "print(Example_site0a_HVAC1[StartPoint: EndPoint+1])"
   ]
  },
  {
   "cell_type": "code",
   "execution_count": null,
   "metadata": {},
   "outputs": [],
   "source": [
    "for i in range( 1,71 ):     \n",
    "    s1 = 'temp_data_a=site%da_HVAC1'%(i)\n",
    "    s2 = 'temp_data_c1=site%dc_Fault1'%(i)\n",
    "    s3 = 'temp_data_c2=site%dc_Fault2'%(i)\n",
    "    exec(s1)\n",
    "    exec(s2)\n",
    "    exec(s3)\n",
    "    StartPoint = np.where(temp_data_a.iloc[:,1].values <= temp_data_c1.iloc[0,0])[0][-1]\n",
    "    EndPoint= np.where(temp_data_a.iloc[:,1].values <= temp_data_c1.iloc[0,1])[0][-1]\n",
    "    s4='site%da_HVAC1_Fault1=pd.DataFrame(temp_data_a[StartPoint:EndPoint+1])' %(i)\n",
    "    exec(s4)\n",
    "    StartPoint2 = np.where(temp_data_a.iloc[:,1].values <= temp_data_c2.iloc[0,0])[0][-1]\n",
    "    EndPoint2= np.where(temp_data_a.iloc[:,1].values <= temp_data_c2.iloc[0,1])[0][-1]\n",
    "    s5='site%da_HVAC1_Fault2=pd.DataFrame(temp_data_a[StartPoint2:EndPoint2+1])' %(i)\n",
    "    exec(s5)\n",
    "    for j in range(1,len(temp_data_c1)):  \n",
    "        StartPoint = np.where(temp_data_a.iloc[:,1].values <= temp_data_c1.iloc[j,0])[0][-1]\n",
    "        EndPoint= np.where(temp_data_a.iloc[:,1].values <= temp_data_c1.iloc[j,1])[0][-1]\n",
    "        data=pd.DataFrame(temp_data_a[StartPoint:EndPoint+1])\n",
    "        s6='site%da_HVAC1_Fault1=np.concatenate([site%da_HVAC1_Fault1,data])' %(i,i)\n",
    "        exec(s6)\n",
    "        s8='site%da_HVAC1_Fault1=pd.DataFrame(site%da_HVAC1_Fault1)' %(i,i)\n",
    "        exec(s8)\n",
    "    for k in range(1,len(temp_data_c2)):   \n",
    "        StartPoint2 = np.where(temp_data_a.iloc[:,1].values <= temp_data_c2.iloc[k,0])[0][-1]\n",
    "        EndPoint2= np.where(temp_data_a.iloc[:,1].values <= temp_data_c2.iloc[k,1])[0][-1]\n",
    "        data2=pd.DataFrame(temp_data_a[StartPoint2:EndPoint2+1])\n",
    "        s7='site%da_HVAC1_Fault2=np.concatenate([site%da_HVAC1_Fault2,data2])' %(i,i)\n",
    "        exec(s7)\n",
    "        s9='site%da_HVAC1_Fault2=pd.DataFrame(site%da_HVAC1_Fault2)' %(i,i)\n",
    "        exec(s9)\n",
    "    print('\\n %d번째 데이터의 고장구간 추출 완료'%i) "
   ]
  },
  {
   "cell_type": "code",
   "execution_count": null,
   "metadata": {},
   "outputs": [],
   "source": [
    "DataSize_Fault1= pd.DataFrame(site1a_HVAC1_Fault1.shape)\n",
    "\n",
    "for i in range(2,71):\n",
    "    s = 'DataSize_Fault1_add = pd.DataFrame(site%da_HVAC1_Fault1.shape)'%i\n",
    "    exec(s)\n",
    "    DataSize_Fault1 = pd.DataFrame(np.concatenate([DataSize_Fault1 , DataSize_Fault1_add], axis=1))\n",
    "    \n",
    "    \n",
    "DataSize_Fault1"
   ]
  },
  {
   "cell_type": "code",
   "execution_count": null,
   "metadata": {},
   "outputs": [],
   "source": [
    "DataSize_Fault2= pd.DataFrame(site1a_HVAC1_Fault2.shape)\n",
    "\n",
    "for i in range(2,71):\n",
    "    s = 'DataSize_Fault2_add = pd.DataFrame(site%da_HVAC1_Fault2.shape)'%i\n",
    "    exec(s)\n",
    "    DataSize_Fault2 = pd.DataFrame(np.concatenate([DataSize_Fault2 , DataSize_Fault2_add], axis=1))\n",
    "    \n",
    "DataSize_Fault2"
   ]
  },
  {
   "cell_type": "code",
   "execution_count": null,
   "metadata": {},
   "outputs": [],
   "source": [
    "Path1 = './Result/ST%d_DC2_1'%StudentNo\n",
    "Path2 = './Result/ST%d_DC2_2'%StudentNo\n",
    "Path3 = './Result/ST%d_DC2_3'%StudentNo\n",
    "Path4 = './Result/ST%d_DC2_4'%StudentNo\n",
    "\n",
    "site35a_HVAC1_Fault1.to_csv( Path1 , sep=',' , header=None , index=None)\n",
    "site45a_HVAC1_Fault2.to_csv( Path2 , sep=',' , header=None , index=None)\n",
    "DataSize_Fault1.to_csv(      Path3 , sep=',' , header=None , index=None)\n",
    "DataSize_Fault2.to_csv(      Path4 , sep=',' , header=None , index=None)"
   ]
  },
  {
   "cell_type": "code",
   "execution_count": null,
   "metadata": {},
   "outputs": [],
   "source": [
    "def rms(x):\n",
    "    return np.sqrt(np.mean(x**2))"
   ]
  },
  {
   "cell_type": "code",
   "execution_count": null,
   "metadata": {},
   "outputs": [],
   "source": [
    "NoOfSensor  = 4\n",
    "NoOfFeature = 5\n",
    "NoOfData    = 70\n",
    "\n",
    "FeatureData_Fault1 = np.zeros((NoOfSensor*NoOfFeature , NoOfData))\n",
    "FeatureData_Fault2 = np.zeros((NoOfSensor*NoOfFeature , NoOfData))\n",
    "# 특징추출 코드 작성\n",
    "\n",
    "for i in range(NoOfData):\n",
    "    \n",
    "    s1 = 'temp_data1=site%da_HVAC1_Fault1'%(i+1) \n",
    "    s2 = 'temp_data2=site%da_HVAC1_Fault2'%(i+1)\n",
    "    exec(s1)\n",
    "    exec(s2)\n",
    "    for j in range(NoOfSensor):\n",
    "        \n",
    "        FeatureData_Fault1[5*j+0, i] = np.max(temp_data1.iloc[:,j+2])\n",
    "        FeatureData_Fault1[5*j+1, i] = np.min(temp_data1.iloc[:,j+2])\n",
    "        FeatureData_Fault1[5*j+2, i] = np.mean(temp_data1.iloc[:,j+2])\n",
    "        FeatureData_Fault1[5*j+3, i] = rms(temp_data1.iloc[:,j+2])\n",
    "        FeatureData_Fault1[5*j+4, i] = np.var(temp_data1.iloc[:,j+2])\n",
    "        \n",
    "        FeatureData_Fault2[5*j+0, i] = np.max(temp_data2.iloc[:,j+2])\n",
    "        FeatureData_Fault2[5*j+1, i] = np.min(temp_data2.iloc[:,j+2])\n",
    "        FeatureData_Fault2[5*j+2, i] = np.mean(temp_data2.iloc[:,j+2])\n",
    "        FeatureData_Fault2[5*j+3, i] = rms(temp_data2.iloc[:,j+2])\n",
    "        FeatureData_Fault2[5*j+4, i] = np.var(temp_data2.iloc[:,j+2])\n",
    "\n",
    "        \n",
    "print(FeatureData_Fault1.shape)\n",
    "print(FeatureData_Fault2.shape) "
   ]
  },
  {
   "cell_type": "code",
   "execution_count": null,
   "metadata": {},
   "outputs": [],
   "source": [
    "FeatureData_Fault1_df = pd.DataFrame(FeatureData_Fault1)\n",
    "FeatureData_Fault1_df"
   ]
  },
  {
   "cell_type": "code",
   "execution_count": null,
   "metadata": {},
   "outputs": [],
   "source": [
    "FeatureData_Fault2_df = pd.DataFrame(FeatureData_Fault2)\n",
    "FeatureData_Fault2_df"
   ]
  },
  {
   "cell_type": "code",
   "execution_count": null,
   "metadata": {},
   "outputs": [],
   "source": [
    "Path1 = './Result/ST%d_DC3_1'%StudentNo\n",
    "Path2 = './Result/ST%d_DC3_2'%StudentNo\n",
    "\n",
    "FeatureData_Fault1_df.to_csv( Path1 , sep=',' , header=None , index=None)\n",
    "FeatureData_Fault2_df.to_csv( Path2 , sep=',' , header=None , index=None)"
   ]
  },
  {
   "cell_type": "code",
   "execution_count": null,
   "metadata": {},
   "outputs": [],
   "source": [
    "import seaborn           as sb\n",
    "import scipy.stats       as sp"
   ]
  },
  {
   "cell_type": "code",
   "execution_count": null,
   "metadata": {},
   "outputs": [],
   "source": [
    "NoOfData    = int(FeatureData_Fault1_df.shape[1])  \n",
    "NoOfFeature = int(FeatureData_Fault1_df.shape[0])\n",
    "\n",
    "P_value = np.zeros((NoOfFeature , 2))\n",
    "\n",
    "for i in np.arange(1,NoOfFeature):\n",
    "    \n",
    "    T_test       = np.array(sp.ttest_ind(FeatureData_Fault1_df.iloc[i,:] , FeatureData_Fault2_df.iloc[i,:]))\n",
    "    P_value[i,0] = i          \n",
    "    P_value[i,1] = T_test[1]  \n",
    "    \n",
    "P_value      = pd.DataFrame(P_value)\n",
    "P_value"
   ]
  },
  {
   "cell_type": "code",
   "execution_count": null,
   "metadata": {},
   "outputs": [],
   "source": [
    "P_value_Rank = P_value.sort_values([1],ascending=True)  \n",
    "P_value_Rank"
   ]
  },
  {
   "cell_type": "code",
   "execution_count": null,
   "metadata": {},
   "outputs": [],
   "source": [
    "Rank =   11         # P-value < 0.01인 특징개수 입력\n",
    "\n",
    "FeatureSelected_Fault1 = np.zeros((Rank,NoOfData))\n",
    "FeatureSelected_Fault2 = np.zeros((Rank,NoOfData))\n",
    "\n",
    "\n",
    "for i in range(Rank):\n",
    "    \n",
    "    index         = int(P_value_Rank.iloc[i,0])\n",
    "    FeatureSelected_Fault1[i,:]   = FeatureData_Fault1_df.iloc[index,:].values\n",
    "    FeatureSelected_Fault2[i,:] = FeatureData_Fault2_df.iloc[index,:].values\n",
    "\n",
    "FeatureSelected = pd.DataFrame(np.concatenate([FeatureSelected_Fault1, FeatureSelected_Fault2] , axis=1))\n",
    "\n",
    "print(FeatureSelected.shape)  "
   ]
  },
  {
   "cell_type": "code",
   "execution_count": null,
   "metadata": {},
   "outputs": [],
   "source": [
    "# StudentNo = 0   # 수강생 번호 입력\n",
    "\n",
    "Path = './Result/ST%d_DC4'%StudentNo\n",
    "\n",
    "FeatureSelected.to_csv( Path , sep=',' , header=None , index=None)"
   ]
  }
 ],
 "metadata": {
  "kernelspec": {
   "display_name": "Python 3",
   "language": "python",
   "name": "python3"
  },
  "language_info": {
   "codemirror_mode": {
    "name": "ipython",
    "version": 3
   },
   "file_extension": ".py",
   "mimetype": "text/x-python",
   "name": "python",
   "nbconvert_exporter": "python",
   "pygments_lexer": "ipython3",
   "version": "3.6.10"
  }
 },
 "nbformat": 4,
 "nbformat_minor": 4
}
